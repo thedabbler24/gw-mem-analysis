{
  "nbformat": 4,
  "nbformat_minor": 0,
  "metadata": {
    "colab": {
      "provenance": [],
      "authorship_tag": "ABX9TyMrVUq3yKGMWkd1sCGqgYpF",
      "include_colab_link": true
    },
    "kernelspec": {
      "name": "python3",
      "display_name": "Python 3"
    },
    "language_info": {
      "name": "python"
    }
  },
  "cells": [
    {
      "cell_type": "markdown",
      "metadata": {
        "id": "view-in-github",
        "colab_type": "text"
      },
      "source": [
        "<a href=\"https://colab.research.google.com/github/thedabbler24/gw-mem-analysis/blob/main/gw150914.ipynb\" target=\"_parent\"><img src=\"https://colab.research.google.com/assets/colab-badge.svg\" alt=\"Open In Colab\"/></a>"
      ]
    },
    {
      "cell_type": "code",
      "execution_count": null,
      "metadata": {
        "id": "NzUwsRIaVRME",
        "collapsed": true
      },
      "outputs": [],
      "source": [
        "#!pip install bilby gwmemory gwpy gwosc matplotlib"
      ]
    },
    {
      "cell_type": "code",
      "source": [
        "# Relevant packages\n",
        "import gwmemory\n",
        "import matplotlib.pyplot as plt\n",
        "import numpy as np\n",
        "from gwosc import datasets\n",
        "from gwpy.timeseries import TimeSeries\n",
        "from gwosc.datasets import event_gps\n",
        "import bilby\n",
        "import logging\n",
        "from bilby.core.utils.random import seed\n",
        "import lal"
      ],
      "metadata": {
        "collapsed": true,
        "id": "MjSEB-wDVYRF"
      },
      "execution_count": null,
      "outputs": []
    },
    {
      "cell_type": "code",
      "source": [
        "seed(123)\n",
        "# Setting up logger\n",
        "bilby.core.utils.setup_logger(logging.INFO)\n",
        "\n",
        "# Setting the result directory\n",
        "outdir = 'outdir_gw150914'\n",
        "label = 'GW150914_standard'"
      ],
      "metadata": {
        "id": "OosfcGG7WC8S"
      },
      "execution_count": 3,
      "outputs": []
    },
    {
      "cell_type": "code",
      "source": [
        "# Setting up empty interferometer\n",
        "H1 = bilby.gw.detector.get_empty_interferometer('H1')\n",
        "\n",
        "# Setting up data\n",
        "event = \"GW150914\"\n",
        "gps_time = event_gps(event)\n",
        "\n",
        "detector = \"H1\"\n",
        "sampling_freq = 4096\n",
        "time_series = TimeSeries.fetch_open_data(detector,gps_time - 2,gps_time + 2,sample_rate=sampling_freq,cache = True, dataset=event)\n",
        "\n",
        "strain_data = time_series.value\n",
        "time = time_series.times.value\n",
        "H1.set_strain_data_from_gwpy_timeseries(time_series = time_series)\n",
        "\n",
        "plt.plot(time,strain_data)\n",
        "plt.xlabel(\"Time (s)\")\n",
        "plt.ylabel(\"Strain\")\n",
        "plt.show()\n"
      ],
      "metadata": {
        "id": "xTqCCz0NVbRl",
        "collapsed": true
      },
      "execution_count": null,
      "outputs": []
    },
    {
      "cell_type": "code",
      "source": [
        "# Defining parameters of GW150914\n",
        "parameters = dict(q=1.2,spin_1 = [0,0,0.3],spin_2 = [0,0,0.2],total_mass = 63.1,distance = 440.0, inc = 2.8, phase = 0.0, geocent_time = gps_time)\n",
        "\n",
        "# Setting priors\n",
        "priors = bilby.gw.prior.BBHPriorDict()\n",
        "\n",
        "for key in [\"chirp_mass\", \"mass_ratio\"]:\n",
        "    priors.pop(key, None)\n",
        "\n",
        "priors['mass_1'] = bilby.core.prior.Uniform(name='mass_1', minimum=20, maximum=80)\n",
        "priors['mass_2'] = bilby.core.prior.Uniform(name='mass_2', minimum=10, maximum=60)\n",
        "priors[\"geocent_time\"] = bilby.core.prior.Uniform(gps_time - 0.1, gps_time + 0.1, name=\"geocent_time\", unit=\"s\")\n",
        "\n",
        "print(\"Priors keys:\", list(priors.keys()))"
      ],
      "metadata": {
        "colab": {
          "base_uri": "https://localhost:8080/"
        },
        "collapsed": true,
        "id": "Mfy9kq4EzHjG",
        "outputId": "0fca1f8d-6837-46af-c9b8-c33da5ffdaf2"
      },
      "execution_count": 8,
      "outputs": [
        {
          "output_type": "stream",
          "name": "stderr",
          "text": [
            "14:01 bilby INFO    : No prior given, using default BBH priors in /usr/local/lib/python3.11/dist-packages/bilby/gw/prior_files/precessing_spins_bbh.prior.\n"
          ]
        },
        {
          "output_type": "stream",
          "name": "stdout",
          "text": [
            "Priors keys: ['mass_1', 'mass_2', 'luminosity_distance', 'dec', 'ra', 'theta_jn', 'psi', 'phase', 'a_1', 'a_2', 'tilt_1', 'tilt_2', 'phi_12', 'phi_jl', 'geocent_time']\n"
          ]
        }
      ]
    },
    {
      "cell_type": "code",
      "source": [
        "# Waveform generator\n",
        "waveform_arguments = dict(waveform_approximant = \"IMRPhenomD\",\n",
        "                          reference_frequency = 50.0,\n",
        "                          minimum_frequency = 20.0)\n",
        "\n",
        "waveform_generator = bilby.gw.waveform_generator.WaveformGenerator(\n",
        "    duration = 4.0,\n",
        "    sampling_frequency = sampling_freq,\n",
        "    frequency_domain_source_model = bilby.gw.source.lal_binary_black_hole,\n",
        "    parameter_conversion=bilby.gw.conversion.convert_to_lal_binary_black_hole_parameters,\n",
        "    waveform_arguments = waveform_arguments\n",
        ")\n"
      ],
      "metadata": {
        "collapsed": true,
        "id": "IZa5o-0RWaox"
      },
      "execution_count": null,
      "outputs": []
    },
    {
      "cell_type": "code",
      "source": [
        "# Defining Likelihood\n",
        "likelihood = bilby.gw.likelihood.GravitationalWaveTransient(\n",
        "    interferometers = [H1],\n",
        "    waveform_generator = waveform_generator,\n",
        "    priors = priors,\n",
        "    reference_frame = \"H1L1\",\n",
        "    time_reference = \"H1\"\n",
        ")\n",
        "\n",
        "likelihood.parameters = {key: None for key in priors.keys()}\n",
        "print(\"Likelihood parameters:\", likelihood.parameters)\n",
        "\n",
        "\n"
      ],
      "metadata": {
        "id": "Ra9H73z7XfSU"
      },
      "execution_count": null,
      "outputs": []
    },
    {
      "cell_type": "code",
      "source": [
        "# Sampler\n",
        "result = bilby.run_sampler(\n",
        "    likelihood = likelihood,\n",
        "    priors = priors,\n",
        "    sampler = \"dynesty\",\n",
        "    nlive = 500,\n",
        "    npool = 4,\n",
        "    outdir = 'outdir',\n",
        "    label = \"GW150914_standard\",\n",
        "    resume = False,\n",
        "    clean = True\n",
        ")\n",
        "\n",
        "result.plot_corner()              # Posterior distributions\n",
        "result.plot_waveform_posterior()  # Overlay waveforms on data\n",
        "print(result.log_evidence)        # Bayesian evidence"
      ],
      "metadata": {
        "id": "FLY1vL4tX9S0"
      },
      "execution_count": null,
      "outputs": []
    }
  ]
}
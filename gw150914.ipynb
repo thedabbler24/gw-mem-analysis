{
  "nbformat": 4,
  "nbformat_minor": 0,
  "metadata": {
    "colab": {
      "provenance": [],
      "authorship_tag": "ABX9TyMN2B+ApbqLRvejsUYfWbnE",
      "include_colab_link": true
    },
    "kernelspec": {
      "name": "python3",
      "display_name": "Python 3"
    },
    "language_info": {
      "name": "python"
    }
  },
  "cells": [
    {
      "cell_type": "markdown",
      "metadata": {
        "id": "view-in-github",
        "colab_type": "text"
      },
      "source": [
        "<a href=\"https://colab.research.google.com/github/thedabbler24/gw-mem-analysis/blob/main/gw150914.ipynb\" target=\"_parent\"><img src=\"https://colab.research.google.com/assets/colab-badge.svg\" alt=\"Open In Colab\"/></a>"
      ]
    },
    {
      "cell_type": "code",
      "execution_count": null,
      "metadata": {
        "id": "NzUwsRIaVRME",
        "collapsed": true
      },
      "outputs": [],
      "source": [
        "#!pip install bilby gwmemory gwpy gwosc matplotlib"
      ]
    },
    {
      "cell_type": "code",
      "source": [
        "# Relevant packages\n",
        "import gwmemory\n",
        "import matplotlib.pyplot as plt\n",
        "import numpy as np\n",
        "from gwosc import datasets\n",
        "from gwpy.timeseries import TimeSeries\n",
        "from gwosc.datasets import event_gps\n",
        "import bilby\n",
        "import logging\n",
        "from bilby.core.utils.random import seed\n",
        "import warnings\n",
        "import lal"
      ],
      "metadata": {
        "collapsed": true,
        "id": "MjSEB-wDVYRF"
      },
      "execution_count": null,
      "outputs": []
    },
    {
      "cell_type": "code",
      "source": [
        "seed(123)\n",
        "# Setting up logger\n",
        "bilby.core.utils.setup_logger(logging.INFO)\n",
        "\n",
        "# Setting the result directory\n",
        "outdir = 'outdir_gw150914'\n",
        "label = 'GW150914_standard'\n",
        "\n",
        "warnings.filterwarnings(\"ignore\", message=\"Cannot convert from zenith/azimuth to ra/dec\")\n",
        "warnings.filterwarnings(\"ignore\", message=\"Cannot find .*_time in parameters\")"
      ],
      "metadata": {
        "id": "OosfcGG7WC8S"
      },
      "execution_count": 10,
      "outputs": []
    },
    {
      "cell_type": "code",
      "source": [
        "# Setting up empty interferometer\n",
        "H1 = bilby.gw.detector.get_empty_interferometer('H1')\n",
        "\n",
        "# Setting up data\n",
        "event = \"GW150914\"\n",
        "gps_time = event_gps(event)\n",
        "\n",
        "detector = \"H1\"\n",
        "sampling_freq = 4096\n",
        "time_series = TimeSeries.fetch_open_data(detector,gps_time - 2,gps_time + 2,sample_rate=sampling_freq,cache = True, dataset=event)\n",
        "\n",
        "strain_data = time_series.data\n",
        "time = time_series.times\n",
        "\n",
        "# Setting up interferometer\n",
        "H1.set_strain_data_from_gwpy_timeseries(time_series)\n",
        "#plt.plot(time,strain_data)\n",
        "#plt.xlabel(\"Time (s)\")\n",
        "#plt.ylabel(\"Strain\")\n",
        "#plt.show()\n"
      ],
      "metadata": {
        "id": "xTqCCz0NVbRl",
        "collapsed": true
      },
      "execution_count": 11,
      "outputs": []
    },
    {
      "cell_type": "code",
      "source": [
        "# Defining parameters of GW150914\n",
        "parameters = dict(q=1.2,spin_1 = [0,0,0.3],spin_2 = [0,0,0.2],total_mass = 63.1,distance = 440.0, inc = 2.8, phase = 0.0, geocent_time = gps_time)\n",
        "\n",
        "# Setting priors\n",
        "priors = bilby.gw.prior.BBHPriorDict()\n",
        "\n",
        "for key in [\"chirp_mass\", \"mass_ratio\",\"phi_12\",\"phi_jl\"]:\n",
        "    priors.pop(key, None)\n",
        "\n",
        "priors['mass_1'] = bilby.core.prior.Uniform(name='mass_1', minimum=20, maximum=80)\n",
        "priors['mass_2'] = bilby.core.prior.Uniform(name='mass_2', minimum=10, maximum=60)\n",
        "priors[\"geocent_time\"] = bilby.core.prior.Uniform(gps_time - 0.1, gps_time + 0.1, name=\"geocent_time\", unit=\"s\")\n",
        "priors[\"tilt_1\"] = bilby.core.prior.DeltaFunction(0, name=\"tilt_1\")\n",
        "priors[\"tilt_2\"] = bilby.core.prior.DeltaFunction(0, name=\"tilt_2\")\n",
        "priors['luminosity_distance'] = bilby.core.prior.Uniform(100, 1000, 'luminosity_distance')\n",
        "\n",
        "print(\"Priors keys:\", list(priors.values()))"
      ],
      "metadata": {
        "collapsed": true,
        "id": "Mfy9kq4EzHjG"
      },
      "execution_count": null,
      "outputs": []
    },
    {
      "cell_type": "code",
      "source": [
        "# Waveform generator (Standard)\n",
        "waveform_arguments = dict(waveform_approximant = \"IMRPhenomD\",\n",
        "                          reference_frequency = 50.0,\n",
        "                          minimum_frequency = 20.0)\n",
        "\n",
        "waveform_generator = bilby.gw.waveform_generator.WaveformGenerator(\n",
        "    duration = 4.0,\n",
        "    sampling_frequency = sampling_freq,\n",
        "    frequency_domain_source_model = bilby.gw.source.lal_binary_black_hole,\n",
        "    parameter_conversion=bilby.gw.conversion.convert_to_lal_binary_black_hole_parameters,\n",
        "    waveform_arguments = waveform_arguments\n",
        ")\n",
        "\n",
        "# Waveform generator (With memory)\n",
        "def waveform_generator_with_memory(parameters):\n",
        "    waveform_arguments = dict(waveform_approximant=\"IMRPhenomD\",\n",
        "                              reference_frequency=50.0,\n",
        "                              minimum_frequency=20.0)\n",
        "    lal_params = bilby.gw.conversion.convert_to_lal_binary_black_hole_parameters(parameters.copy())\n",
        "\n",
        "    base_waveform = bilby.gw.source.lal_binary_black_hole\n",
        "\n",
        "    memory_waveform, frequencies = gwmemory.frequency_domain_memory(**parameters,model = \"IMRPhenomD\", times = np.linspace(-0.98,0.02,int(4*sampling_freq)))\n",
        "    memory = memory_waveform\n",
        "\n",
        "    if (\"plus\" in base_waveform) and (\"plus\" in memory):\n",
        "      base_waveform[\"plus\"] = base_waveform[\"plus\"] + np.abs(memory[\"plus\"])\n",
        "    elif (\"cross\" in base_waveform) and (\"cross\" in memory):\n",
        "      base_waveform[\"cross\"] = base_waveform[\"cross\"] + np.abs(base_waveform[\"cross\"])\n",
        "\n",
        "    return base_waveform\n",
        "\n",
        "waveform_generator_with_mem = bilby.gw.WaveformGenerator(\n",
        "    duration= 4.0,\n",
        "    sampling_frequency=sampling_freq,\n",
        "    frequency_domain_source_model= waveform_generator_with_memory,\n",
        "    waveform_arguments=waveform_arguments\n",
        ")\n"
      ],
      "metadata": {
        "collapsed": true,
        "id": "IZa5o-0RWaox"
      },
      "execution_count": null,
      "outputs": []
    },
    {
      "cell_type": "code",
      "source": [
        "# Defining Likelihood (Standard)\n",
        "likelihood = bilby.gw.likelihood.GravitationalWaveTransient(\n",
        "    interferometers = [H1],\n",
        "    waveform_generator = waveform_generator,\n",
        "    priors = priors,\n",
        "    reference_frame = \"sky\",\n",
        "    time_reference = \"geocent\"\n",
        ")\n",
        "\n",
        "# Defining Likelihood (With memory)\n",
        "likelihood_with_memory = bilby.gw.likelihood.GravitationalWaveTransient(\n",
        "    interferometers = [H1],\n",
        "    waveform_generator = waveform_generator_with_mem,\n",
        "    priors = priors,\n",
        "    reference_frame = \"sky\",\n",
        "    time_reference = \"geocent\")\n",
        "likelihood.parameters = {key: None for key in priors.keys()}\n",
        "likelihood_with_memory.parameters = {key: None for key in priors.keys()}\n",
        "\n",
        "#print(\"Likelihood parameters:\", likelihood_with_memory.parameters)\n",
        "\n",
        "\n"
      ],
      "metadata": {
        "id": "Ra9H73z7XfSU",
        "collapsed": true
      },
      "execution_count": 19,
      "outputs": []
    },
    {
      "cell_type": "code",
      "source": [
        "# Sampler (Memory)\n",
        "result_with_memory = bilby.run_sampler(\n",
        "    likelihood = likelihood_with_memory,\n",
        "    priors = priors,\n",
        "    sampler = \"dynesty\",\n",
        "    nlive = 300,\n",
        "    max_n_steps = 5000,\n",
        "    maxcall = 10000,\n",
        "    npool = 1,\n",
        "    dlogz = 1.0,\n",
        "    outdir = 'outdir_gw150914_mem',\n",
        "    label = \"GW150914_mem\",\n",
        "    resume = True,\n",
        "    clean = True\n",
        ")\n",
        "\n",
        "result_with_memory.plot_corner()              # Posterior distributions\n",
        "result_with_memory.plot_waveform_posterior()  # Overlay waveforms on data\n",
        "print(result_with_memory.log_evidence)        # Bayesian evidence\n",
        "\n",
        "\n",
        "\n",
        "# Sampler\n",
        "result = bilby.run_sampler(\n",
        "    likelihood = likelihood,\n",
        "    priors = priors,\n",
        "    sampler = \"dynesty\",\n",
        "    nlive = 300,\n",
        "    max_n_steps = 5000,\n",
        "    maxcall = 10000,\n",
        "    npool = 1,\n",
        "    dlogz = 1.0,\n",
        "    outdir = 'outdir_gw150914',\n",
        "    label = \"GW150914_standard\",\n",
        "    resume = True,\n",
        "    clean = True\n",
        ")\n",
        "\n",
        "result.plot_corner()              # Posterior distributions\n",
        "result.plot_waveform_posterior()  # Overlay waveforms on data\n",
        "print(result.log_evidence)        # Bayesian evidence\n",
        "\n",
        "bayes_factor = result_with_memory.log_evidence - result.log_evidence\n",
        "print(bayes_factor)               # Bayes factor"
      ],
      "metadata": {
        "id": "FLY1vL4tX9S0"
      },
      "execution_count": null,
      "outputs": []
    }
  ]
}
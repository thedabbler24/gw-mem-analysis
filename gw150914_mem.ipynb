{
  "nbformat": 4,
  "nbformat_minor": 0,
  "metadata": {
    "colab": {
      "provenance": [],
      "authorship_tag": "ABX9TyN03ODYigwzfaxyWKeHisIl",
      "include_colab_link": true
    },
    "kernelspec": {
      "name": "python3",
      "display_name": "Python 3"
    },
    "language_info": {
      "name": "python"
    }
  },
  "cells": [
    {
      "cell_type": "markdown",
      "metadata": {
        "id": "view-in-github",
        "colab_type": "text"
      },
      "source": [
        "<a href=\"https://colab.research.google.com/github/thedabbler24/gw-mem-analysis/blob/main/gw150914_mem.ipynb\" target=\"_parent\"><img src=\"https://colab.research.google.com/assets/colab-badge.svg\" alt=\"Open In Colab\"/></a>"
      ]
    },
    {
      "cell_type": "code",
      "execution_count": null,
      "metadata": {
        "collapsed": true,
        "id": "Eui-C4pEb3IQ"
      },
      "outputs": [],
      "source": [
        "#!pip install bilby gwmemory gwpy gwosc matplotlib"
      ]
    },
    {
      "cell_type": "code",
      "source": [
        "import gwmemory\n",
        "import matplotlib.pyplot as plt\n",
        "import numpy as np\n",
        "from gwosc import datasets\n",
        "from gwpy.timeseries import TimeSeries\n",
        "from gwosc.datasets import event_gps\n",
        "import bilby\n",
        "import lal"
      ],
      "metadata": {
        "id": "a3ca2SQDciIn",
        "collapsed": true
      },
      "execution_count": null,
      "outputs": []
    },
    {
      "cell_type": "code",
      "source": [
        "event = \"GW150914\"\n",
        "gps_time = event_gps(event)\n",
        "\n",
        "detector = \"H1\"\n",
        "sampling_freq = 4096\n",
        "strain_data = TimeSeries.fetch_open_data(detector,gps_time - 2,gps_time + 2,sample_rate=sampling_freq,cache = True, dataset=event)\n",
        "strain_data = strain_data.bandpass(10,200)\n",
        "strain = strain_data.whiten()\n",
        "\n",
        "straintimes = strain_data.times.value\n",
        "strain = strain_data.value\n",
        "\n",
        "plt.plot(straintimes,strain)\n",
        "plt.show()"
      ],
      "metadata": {
        "id": "AhUP76nvcv5c"
      },
      "execution_count": null,
      "outputs": []
    },
    {
      "cell_type": "code",
      "source": [
        "# parameters = dict(q=1.2,spin_1 = [0,0,0.3],spin_2 = [0,0,0.2],total_mass = 63.1,distance = 440.0, inc = 2.8, phase = 0.0)\n",
        "h_mem, frequencies = gwmemory.time_domain_memory(q=1.2,\n",
        "    spin_1=[0,0,0.3],\n",
        "    spin_2=[0,0,0.2],\n",
        "    total_mass=63.1,\n",
        "    distance=440.0,\n",
        "    model=\"IMRPhenomD\",\n",
        "    inc=2.8,\n",
        "    phase=0.0,\n",
        "    times = linspace(0,4,4*4096))"
      ],
      "metadata": {
        "id": "-fPyHrFCdGLb"
      },
      "execution_count": null,
      "outputs": []
    },
    {
      "cell_type": "code",
      "source": [
        "plt.plot(frequencies,h_mem[\"plus\"])\n",
        "#plt.ylim(-1e-27, 1e-27)\n",
        "#plt.xlim(10,200)\n",
        "plt.show()"
      ],
      "metadata": {
        "id": "Hb1CePwxk2Sa"
      },
      "execution_count": null,
      "outputs": []
    }
  ]
}
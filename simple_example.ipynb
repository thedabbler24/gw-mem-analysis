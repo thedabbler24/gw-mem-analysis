{
  "nbformat": 4,
  "nbformat_minor": 0,
  "metadata": {
    "colab": {
      "provenance": [],
      "authorship_tag": "ABX9TyNMncO+lyfKl6uKcn2Fb+KR"
    },
    "kernelspec": {
      "name": "python3",
      "display_name": "Python 3"
    },
    "language_info": {
      "name": "python"
    }
  },
  "cells": [
    {
      "cell_type": "code",
      "execution_count": null,
      "metadata": {
        "id": "2mWlofYubGm4"
      },
      "outputs": [],
      "source": [
        "print(\"Hello World!\")"
      ]
    }
  ]
}